{
 "cells": [
  {
   "cell_type": "markdown",
   "metadata": {},
   "source": [
    "    %a  Locale’s abbreviated weekday name.\n",
    "    %A  Locale’s full weekday name.      \n",
    "    %b  Locale’s abbreviated month name.     \n",
    "    %B  Locale’s full month name.\n",
    "    %c  Locale’s appropriate date and time representation.   \n",
    "    %d  Day of the month as a decimal number [01,31].    \n",
    "    %f  Microsecond as a decimal number [0,999999], zero-padded on the left\n",
    "    %H  Hour (24-hour clock) as a decimal number [00,23].    \n",
    "    %I  Hour (12-hour clock) as a decimal number [01,12].    \n",
    "    %j  Day of the year as a decimal number [001,366].   \n",
    "    %m  Month as a decimal number [01,12].   \n",
    "    %M  Minute as a decimal number [00,59].      \n",
    "    %p  Locale’s equivalent of either AM or PM.\n",
    "    %S  Second as a decimal number [00,61].\n",
    "    %U  Week number of the year (Sunday as the first day of the week)\n",
    "    %w  Weekday as a decimal number [0(Sunday),6].   \n",
    "    %W  Week number of the year (Monday as the first day of the week)\n",
    "    %x  Locale’s appropriate date representation.    \n",
    "    %X  Locale’s appropriate time representation.    \n",
    "    %y  Year without century as a decimal number [00,99].    \n",
    "    %Y  Year with century as a decimal number.   \n",
    "    %z  UTC offset in the form +HHMM or -HHMM.\n",
    "    %Z  Time zone name (empty string if the object is naive).    \n",
    "    %%  A literal '%' character."
   ]
  },
  {
   "cell_type": "code",
   "execution_count": 1,
   "metadata": {
    "collapsed": true
   },
   "outputs": [],
   "source": [
    "from datetime import datetime\n"
   ]
  },
  {
   "cell_type": "code",
   "execution_count": 44,
   "metadata": {
    "collapsed": true
   },
   "outputs": [],
   "source": [
    "tic = datetime.now()"
   ]
  },
  {
   "cell_type": "code",
   "execution_count": 45,
   "metadata": {
    "collapsed": true
   },
   "outputs": [],
   "source": [
    "tock = datetime.now()"
   ]
  },
  {
   "cell_type": "code",
   "execution_count": 46,
   "metadata": {
    "collapsed": true
   },
   "outputs": [],
   "source": [
    "diff = tock - tic"
   ]
  },
  {
   "cell_type": "code",
   "execution_count": 47,
   "metadata": {},
   "outputs": [
    {
     "data": {
      "text/plain": [
       "datetime.timedelta(0, 0, 383499)"
      ]
     },
     "execution_count": 47,
     "metadata": {},
     "output_type": "execute_result"
    }
   ],
   "source": [
    "diff"
   ]
  },
  {
   "cell_type": "code",
   "execution_count": 6,
   "metadata": {},
   "outputs": [
    {
     "data": {
      "text/plain": [
       "datetime.datetime(2018, 2, 23, 11, 24, 7, 958309)"
      ]
     },
     "execution_count": 6,
     "metadata": {},
     "output_type": "execute_result"
    }
   ],
   "source": [
    "tic"
   ]
  },
  {
   "cell_type": "code",
   "execution_count": 7,
   "metadata": {},
   "outputs": [
    {
     "ename": "SyntaxError",
     "evalue": "invalid syntax (<ipython-input-7-0844e498b77b>, line 4)",
     "output_type": "error",
     "traceback": [
      "\u001b[0;36m  File \u001b[0;32m\"<ipython-input-7-0844e498b77b>\"\u001b[0;36m, line \u001b[0;32m4\u001b[0m\n\u001b[0;31m    print \"Time in seconds since the epoch: %s\" %time.time()\u001b[0m\n\u001b[0m                                              ^\u001b[0m\n\u001b[0;31mSyntaxError\u001b[0m\u001b[0;31m:\u001b[0m invalid syntax\n"
     ]
    }
   ],
   "source": [
    "    import time\n",
    "    import datetime\n",
    "\n",
    "    print \"Time in seconds since the epoch: %s\" %time.time()\n",
    "    print \"Current date and time: \" , datetime.datetime.now()\n",
    "    print \"Or like this: \" ,datetime.datetime.now().strftime(\"%y-%m-%d-%H-%M\")\n",
    "\n",
    "\n",
    "    print \"Current year: \", datetime.date.today().strftime(\"%Y\")\n",
    "    print \"Month of year: \", datetime.date.today().strftime(\"%B\")\n",
    "    print \"Week number of the year: \", datetime.date.today().strftime(\"%W\")\n",
    "    print \"Weekday of the week: \", datetime.date.today().strftime(\"%w\")\n",
    "    print \"Day of year: \", datetime.date.today().strftime(\"%j\")\n",
    "    print \"Day of the month : \", datetime.date.today().strftime(\"%d\")\n",
    "    print \"Day of week: \", datetime.date.today().strftime(\"%A\")"
   ]
  },
  {
   "cell_type": "code",
   "execution_count": 41,
   "metadata": {},
   "outputs": [
    {
     "data": {
      "text/plain": [
       "'0:00:03.423003'"
      ]
     },
     "execution_count": 41,
     "metadata": {},
     "output_type": "execute_result"
    }
   ],
   "source": [
    "str(diff)"
   ]
  },
  {
   "cell_type": "code",
   "execution_count": 42,
   "metadata": {},
   "outputs": [
    {
     "data": {
      "text/plain": [
       "3"
      ]
     },
     "execution_count": 42,
     "metadata": {},
     "output_type": "execute_result"
    }
   ],
   "source": [
    "diff.seconds"
   ]
  },
  {
   "cell_type": "code",
   "execution_count": 23,
   "metadata": {},
   "outputs": [
    {
     "data": {
      "text/plain": [
       "318.487454"
      ]
     },
     "execution_count": 23,
     "metadata": {},
     "output_type": "execute_result"
    }
   ],
   "source": [
    "diff.total_seconds()"
   ]
  },
  {
   "cell_type": "code",
   "execution_count": 27,
   "metadata": {},
   "outputs": [
    {
     "data": {
      "text/plain": [
       "0"
      ]
     },
     "execution_count": 27,
     "metadata": {},
     "output_type": "execute_result"
    }
   ],
   "source": [
    "diff.days"
   ]
  },
  {
   "cell_type": "code",
   "execution_count": 29,
   "metadata": {},
   "outputs": [
    {
     "data": {
      "text/plain": [
       "'318487ms'"
      ]
     },
     "execution_count": 29,
     "metadata": {},
     "output_type": "execute_result"
    }
   ],
   "source": [
    "'{}ms'.format(int(diff.total_seconds() * 1000))"
   ]
  },
  {
   "cell_type": "code",
   "execution_count": 25,
   "metadata": {},
   "outputs": [
    {
     "data": {
      "text/plain": [
       "487454"
      ]
     },
     "execution_count": 25,
     "metadata": {},
     "output_type": "execute_result"
    }
   ],
   "source": [
    "diff.microseconds"
   ]
  },
  {
   "cell_type": "code",
   "execution_count": 35,
   "metadata": {},
   "outputs": [],
   "source": [
    "def time_str(td):\n",
    "    # td is a datetime.timedelta object \n",
    "    # A: 1800ms\n",
    "    # B: 47.5s\n",
    "    # C: 4m 12s\n",
    "    # D: 1:04:27\n",
    "    \n",
    "    hours, rem = divmod(td.seconds, 3600)\n",
    "    minutes, seconds = divmod(rem, 60)\n",
    "    \n",
    "    milisecondsTotal = int(td.total_seconds() * 1000)\n",
    "     \n",
    "    \n",
    "    ## Mesured in Seconds\n",
    "    milisecondsLimit = 2\n",
    "    \n",
    "    \n",
    "    if td.total_seconds() < milisecondsLimit:\n",
    "        return '{}ms'.format(milisecondsTotal)\n",
    "    \n",
    "    if td.total_seconds() < 60:\n",
    "        tenths = int(10 * (td.total_seconds() - seconds))\n",
    "        return '{}.{}s'.format(seconds, tenths)\n",
    "    \n",
    "    if minutes < 60:\n",
    "        return '{}m {}s'.format(minutes, seconds)\n",
    "    \n",
    "    if hours < 24:\n",
    "        return str(td)\n",
    "    \n",
    "    else:\n",
    "        return '{}d'.format(td.days)"
   ]
  },
  {
   "cell_type": "code",
   "execution_count": 48,
   "metadata": {},
   "outputs": [
    {
     "data": {
      "text/plain": [
       "'383ms'"
      ]
     },
     "execution_count": 48,
     "metadata": {},
     "output_type": "execute_result"
    }
   ],
   "source": [
    "time_str(diff)"
   ]
  },
  {
   "cell_type": "code",
   "execution_count": null,
   "metadata": {
    "collapsed": true
   },
   "outputs": [],
   "source": []
  }
 ],
 "metadata": {
  "kernelspec": {
   "display_name": "Python 3",
   "language": "python",
   "name": "python3"
  },
  "language_info": {
   "codemirror_mode": {
    "name": "ipython",
    "version": 3
   },
   "file_extension": ".py",
   "mimetype": "text/x-python",
   "name": "python",
   "nbconvert_exporter": "python",
   "pygments_lexer": "ipython3",
   "version": "3.6.1"
  }
 },
 "nbformat": 4,
 "nbformat_minor": 2
}
